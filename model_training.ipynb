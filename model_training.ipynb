{
  "cells": [
    {
      "cell_type": "markdown",
      "metadata": {
        "id": "view-in-github",
        "colab_type": "text"
      },
      "source": [
        "<a href=\"https://colab.research.google.com/github/Abbas-Muneer/Olympians/blob/DataScience/model_training.ipynb\" target=\"_parent\"><img src=\"https://colab.research.google.com/assets/colab-badge.svg\" alt=\"Open In Colab\"/></a>"
      ]
    },
    {
      "cell_type": "code",
      "execution_count": 1,
      "metadata": {
        "id": "CifLc2FuGXqL",
        "colab": {
          "base_uri": "https://localhost:8080/"
        },
        "outputId": "1e9d5158-e0d6-408d-f892-4ec712b5356a"
      },
      "outputs": [
        {
          "output_type": "stream",
          "name": "stdout",
          "text": [
            "Looking in indexes: https://pypi.org/simple, https://us-python.pkg.dev/colab-wheels/public/simple/\n",
            "Collecting tensorflow==2.7.0\n",
            "  Downloading tensorflow-2.7.0-cp38-cp38-manylinux2010_x86_64.whl (489.6 MB)\n",
            "\u001b[2K     \u001b[90m━━━━━━━━━━━━━━━━━━━━━━━━━━━━━━━━━━━━━━━\u001b[0m \u001b[32m489.6/489.6 MB\u001b[0m \u001b[31m2.6 MB/s\u001b[0m eta \u001b[36m0:00:00\u001b[0m\n",
            "\u001b[?25hRequirement already satisfied: h5py>=2.9.0 in /usr/local/lib/python3.8/dist-packages (from tensorflow==2.7.0) (3.1.0)\n",
            "Requirement already satisfied: gast<0.5.0,>=0.2.1 in /usr/local/lib/python3.8/dist-packages (from tensorflow==2.7.0) (0.4.0)\n",
            "Requirement already satisfied: google-pasta>=0.1.1 in /usr/local/lib/python3.8/dist-packages (from tensorflow==2.7.0) (0.2.0)\n",
            "Requirement already satisfied: tensorflow-io-gcs-filesystem>=0.21.0 in /usr/local/lib/python3.8/dist-packages (from tensorflow==2.7.0) (0.31.0)\n",
            "Collecting keras-preprocessing>=1.1.1\n",
            "  Downloading Keras_Preprocessing-1.1.2-py2.py3-none-any.whl (42 kB)\n",
            "\u001b[2K     \u001b[90m━━━━━━━━━━━━━━━━━━━━━━━━━━━━━━━━━━━━━━━━\u001b[0m \u001b[32m42.6/42.6 KB\u001b[0m \u001b[31m4.7 MB/s\u001b[0m eta \u001b[36m0:00:00\u001b[0m\n",
            "\u001b[?25hCollecting flatbuffers<3.0,>=1.12\n",
            "  Downloading flatbuffers-2.0.7-py2.py3-none-any.whl (26 kB)\n",
            "Collecting keras<2.8,>=2.7.0rc0\n",
            "  Downloading keras-2.7.0-py2.py3-none-any.whl (1.3 MB)\n",
            "\u001b[2K     \u001b[90m━━━━━━━━━━━━━━━━━━━━━━━━━━━━━━━━━━━━━━━━\u001b[0m \u001b[32m1.3/1.3 MB\u001b[0m \u001b[31m42.6 MB/s\u001b[0m eta \u001b[36m0:00:00\u001b[0m\n",
            "\u001b[?25hRequirement already satisfied: wrapt>=1.11.0 in /usr/local/lib/python3.8/dist-packages (from tensorflow==2.7.0) (1.15.0)\n",
            "Collecting tensorflow-estimator<2.8,~=2.7.0rc0\n",
            "  Downloading tensorflow_estimator-2.7.0-py2.py3-none-any.whl (463 kB)\n",
            "\u001b[2K     \u001b[90m━━━━━━━━━━━━━━━━━━━━━━━━━━━━━━━━━━━━━━\u001b[0m \u001b[32m463.1/463.1 KB\u001b[0m \u001b[31m26.1 MB/s\u001b[0m eta \u001b[36m0:00:00\u001b[0m\n",
            "\u001b[?25hRequirement already satisfied: opt-einsum>=2.3.2 in /usr/local/lib/python3.8/dist-packages (from tensorflow==2.7.0) (3.3.0)\n",
            "Requirement already satisfied: tensorboard~=2.6 in /usr/local/lib/python3.8/dist-packages (from tensorflow==2.7.0) (2.11.2)\n",
            "Requirement already satisfied: astunparse>=1.6.0 in /usr/local/lib/python3.8/dist-packages (from tensorflow==2.7.0) (1.6.3)\n",
            "Requirement already satisfied: grpcio<2.0,>=1.24.3 in /usr/local/lib/python3.8/dist-packages (from tensorflow==2.7.0) (1.51.3)\n",
            "Requirement already satisfied: termcolor>=1.1.0 in /usr/local/lib/python3.8/dist-packages (from tensorflow==2.7.0) (2.2.0)\n",
            "Requirement already satisfied: wheel<1.0,>=0.32.0 in /usr/local/lib/python3.8/dist-packages (from tensorflow==2.7.0) (0.38.4)\n",
            "Requirement already satisfied: absl-py>=0.4.0 in /usr/local/lib/python3.8/dist-packages (from tensorflow==2.7.0) (1.4.0)\n",
            "Requirement already satisfied: numpy>=1.14.5 in /usr/local/lib/python3.8/dist-packages (from tensorflow==2.7.0) (1.22.4)\n",
            "Requirement already satisfied: protobuf>=3.9.2 in /usr/local/lib/python3.8/dist-packages (from tensorflow==2.7.0) (3.19.6)\n",
            "Requirement already satisfied: six>=1.12.0 in /usr/local/lib/python3.8/dist-packages (from tensorflow==2.7.0) (1.15.0)\n",
            "Requirement already satisfied: libclang>=9.0.1 in /usr/local/lib/python3.8/dist-packages (from tensorflow==2.7.0) (15.0.6.1)\n",
            "Requirement already satisfied: typing-extensions>=3.6.6 in /usr/local/lib/python3.8/dist-packages (from tensorflow==2.7.0) (4.5.0)\n",
            "Requirement already satisfied: tensorboard-data-server<0.7.0,>=0.6.0 in /usr/local/lib/python3.8/dist-packages (from tensorboard~=2.6->tensorflow==2.7.0) (0.6.1)\n",
            "Requirement already satisfied: markdown>=2.6.8 in /usr/local/lib/python3.8/dist-packages (from tensorboard~=2.6->tensorflow==2.7.0) (3.4.1)\n",
            "Requirement already satisfied: google-auth<3,>=1.6.3 in /usr/local/lib/python3.8/dist-packages (from tensorboard~=2.6->tensorflow==2.7.0) (2.16.1)\n",
            "Requirement already satisfied: requests<3,>=2.21.0 in /usr/local/lib/python3.8/dist-packages (from tensorboard~=2.6->tensorflow==2.7.0) (2.25.1)\n",
            "Requirement already satisfied: werkzeug>=1.0.1 in /usr/local/lib/python3.8/dist-packages (from tensorboard~=2.6->tensorflow==2.7.0) (2.2.3)\n",
            "Requirement already satisfied: setuptools>=41.0.0 in /usr/local/lib/python3.8/dist-packages (from tensorboard~=2.6->tensorflow==2.7.0) (57.4.0)\n",
            "Requirement already satisfied: google-auth-oauthlib<0.5,>=0.4.1 in /usr/local/lib/python3.8/dist-packages (from tensorboard~=2.6->tensorflow==2.7.0) (0.4.6)\n",
            "Requirement already satisfied: tensorboard-plugin-wit>=1.6.0 in /usr/local/lib/python3.8/dist-packages (from tensorboard~=2.6->tensorflow==2.7.0) (1.8.1)\n",
            "Requirement already satisfied: rsa<5,>=3.1.4 in /usr/local/lib/python3.8/dist-packages (from google-auth<3,>=1.6.3->tensorboard~=2.6->tensorflow==2.7.0) (4.9)\n",
            "Requirement already satisfied: cachetools<6.0,>=2.0.0 in /usr/local/lib/python3.8/dist-packages (from google-auth<3,>=1.6.3->tensorboard~=2.6->tensorflow==2.7.0) (5.3.0)\n",
            "Requirement already satisfied: pyasn1-modules>=0.2.1 in /usr/local/lib/python3.8/dist-packages (from google-auth<3,>=1.6.3->tensorboard~=2.6->tensorflow==2.7.0) (0.2.8)\n",
            "Requirement already satisfied: requests-oauthlib>=0.7.0 in /usr/local/lib/python3.8/dist-packages (from google-auth-oauthlib<0.5,>=0.4.1->tensorboard~=2.6->tensorflow==2.7.0) (1.3.1)\n",
            "Requirement already satisfied: importlib-metadata>=4.4 in /usr/local/lib/python3.8/dist-packages (from markdown>=2.6.8->tensorboard~=2.6->tensorflow==2.7.0) (6.0.0)\n",
            "Requirement already satisfied: urllib3<1.27,>=1.21.1 in /usr/local/lib/python3.8/dist-packages (from requests<3,>=2.21.0->tensorboard~=2.6->tensorflow==2.7.0) (1.26.14)\n",
            "Requirement already satisfied: chardet<5,>=3.0.2 in /usr/local/lib/python3.8/dist-packages (from requests<3,>=2.21.0->tensorboard~=2.6->tensorflow==2.7.0) (4.0.0)\n",
            "Requirement already satisfied: idna<3,>=2.5 in /usr/local/lib/python3.8/dist-packages (from requests<3,>=2.21.0->tensorboard~=2.6->tensorflow==2.7.0) (2.10)\n",
            "Requirement already satisfied: certifi>=2017.4.17 in /usr/local/lib/python3.8/dist-packages (from requests<3,>=2.21.0->tensorboard~=2.6->tensorflow==2.7.0) (2022.12.7)\n",
            "Requirement already satisfied: MarkupSafe>=2.1.1 in /usr/local/lib/python3.8/dist-packages (from werkzeug>=1.0.1->tensorboard~=2.6->tensorflow==2.7.0) (2.1.2)\n",
            "Requirement already satisfied: zipp>=0.5 in /usr/local/lib/python3.8/dist-packages (from importlib-metadata>=4.4->markdown>=2.6.8->tensorboard~=2.6->tensorflow==2.7.0) (3.15.0)\n",
            "Requirement already satisfied: pyasn1<0.5.0,>=0.4.6 in /usr/local/lib/python3.8/dist-packages (from pyasn1-modules>=0.2.1->google-auth<3,>=1.6.3->tensorboard~=2.6->tensorflow==2.7.0) (0.4.8)\n",
            "Requirement already satisfied: oauthlib>=3.0.0 in /usr/local/lib/python3.8/dist-packages (from requests-oauthlib>=0.7.0->google-auth-oauthlib<0.5,>=0.4.1->tensorboard~=2.6->tensorflow==2.7.0) (3.2.2)\n",
            "Installing collected packages: tensorflow-estimator, keras, flatbuffers, keras-preprocessing, tensorflow\n",
            "  Attempting uninstall: tensorflow-estimator\n",
            "    Found existing installation: tensorflow-estimator 2.11.0\n",
            "    Uninstalling tensorflow-estimator-2.11.0:\n",
            "      Successfully uninstalled tensorflow-estimator-2.11.0\n",
            "  Attempting uninstall: keras\n",
            "    Found existing installation: keras 2.11.0\n",
            "    Uninstalling keras-2.11.0:\n",
            "      Successfully uninstalled keras-2.11.0\n",
            "  Attempting uninstall: flatbuffers\n",
            "    Found existing installation: flatbuffers 23.1.21\n",
            "    Uninstalling flatbuffers-23.1.21:\n",
            "      Successfully uninstalled flatbuffers-23.1.21\n",
            "  Attempting uninstall: tensorflow\n",
            "    Found existing installation: tensorflow 2.11.0\n",
            "    Uninstalling tensorflow-2.11.0:\n",
            "      Successfully uninstalled tensorflow-2.11.0\n",
            "Successfully installed flatbuffers-2.0.7 keras-2.7.0 keras-preprocessing-1.1.2 tensorflow-2.7.0 tensorflow-estimator-2.7.0\n"
          ]
        }
      ],
      "source": [
        "!pip install tensorflow==2.7.0"
      ]
    },
    {
      "cell_type": "code",
      "execution_count": 3,
      "metadata": {
        "id": "RXpk91wlLfdg"
      },
      "outputs": [],
      "source": [
        "import os\n",
        "import tensorflow as tf\n",
        "from tensorflow.keras.applications.mobilenet_v2 import MobileNetV2,preprocess_input\n",
        "from tensorflow.keras.layers import Dense,Conv2D,GlobalAveragePooling2D,Input\n",
        "from tensorflow.keras.preprocessing.image import load_img, ImageDataGenerator\n",
        "from tensorflow.keras import callbacks,optimizers\n",
        "import numpy as np\n",
        "from google.colab import drive"
      ]
    },
    {
      "cell_type": "code",
      "execution_count": 4,
      "metadata": {
        "id": "aJh2DAOyLrpb",
        "colab": {
          "base_uri": "https://localhost:8080/"
        },
        "outputId": "d5d42581-ff10-4072-c4f7-900ddb32ec32"
      },
      "outputs": [
        {
          "output_type": "stream",
          "name": "stdout",
          "text": [
            "Mounted at /content/drive\n"
          ]
        }
      ],
      "source": [
        "drive.mount('/content/drive')"
      ]
    },
    {
      "cell_type": "code",
      "execution_count": 5,
      "metadata": {
        "colab": {
          "base_uri": "https://localhost:8080/"
        },
        "id": "py3MMwjjL9QX",
        "outputId": "4044e13d-ea1e-42ac-ff17-69737976ed7c"
      },
      "outputs": [
        {
          "output_type": "stream",
          "name": "stdout",
          "text": [
            "/content/drive/MyDrive/model_training\n"
          ]
        }
      ],
      "source": [
        "%cd drive/MyDrive/model_training/\n"
      ]
    },
    {
      "cell_type": "code",
      "execution_count": 5,
      "metadata": {
        "colab": {
          "base_uri": "https://localhost:8080/"
        },
        "id": "Idvovh5OMQJi",
        "outputId": "156d521a-8ece-4147-eaf0-e87f8c95b482"
      },
      "outputs": [
        {
          "output_type": "stream",
          "name": "stdout",
          "text": [
            "resnet_model_training\n",
            "resnet-model-23-02-21.h5\n",
            "3rdModel.h5\n",
            "Copy of resnet-model-23-02-21.h5\n"
          ]
        }
      ],
      "source": [
        "for i in os.listdir(\"content\"):\n",
        "  print(i)"
      ]
    },
    {
      "cell_type": "code",
      "execution_count": null,
      "metadata": {
        "colab": {
          "base_uri": "https://localhost:8080/"
        },
        "id": "uUNsPYtiNi5F",
        "outputId": "48d61b42-1e0f-4001-ba9f-1bf8fe105675"
      },
      "outputs": [
        {
          "name": "stdout",
          "output_type": "stream",
          "text": [
            " ACNE\t\t     Basal_Cell_Carcinoma   Melanocytic_Nevi   Psoriasis\n",
            " Atopic_Dermatitis   Eczema\t\t    Melanoma\t      'Skin Cancer'\n"
          ]
        }
      ],
      "source": [
        "!ls raw-img/"
      ]
    },
    {
      "cell_type": "code",
      "execution_count": null,
      "metadata": {
        "colab": {
          "base_uri": "https://localhost:8080/"
        },
        "id": "NbLP51nrNx3S",
        "outputId": "2b17bb08-eac0-455e-b03a-dddfdcb90004"
      },
      "outputs": [
        {
          "name": "stdout",
          "output_type": "stream",
          "text": [
            "ACNE 375\n",
            "Skin Cancer 3543\n",
            "Psoriasis 341\n",
            "Basal_Cell_Carcinoma 1323\n",
            "Melanocytic_Nevi 2020\n",
            "Atopic_Dermatitis 481\n",
            "Melanoma 1140\n",
            "Eczema 18\n"
          ]
        }
      ],
      "source": [
        "for i in os.listdir(\"raw-img\"):\n",
        "  print(i,len(os.listdir(\"raw-img/\" + i)))"
      ]
    },
    {
      "cell_type": "code",
      "execution_count": null,
      "metadata": {
        "id": "fflKeaDdO0x7"
      },
      "outputs": [],
      "source": [
        "try:\n",
        "  os.mkdir(\"train\")\n",
        "  os.mkdir(\"test\")\n",
        "except:\n",
        "  pass  \n",
        "for i in os.listdir(\"raw-img\"):\n",
        "  try:\n",
        "    os.mkdir(\"train/\" + i)\n",
        "    os.mkdir(\"test/\" + i)\n",
        "  except:\n",
        "    pass  \n",
        "  for j in os.listdir(\"raw-img/\" + i)[:1600]:\n",
        "    os.rename(\"raw-img/\"+i+\"/\"+j, \"train/\"+i+\"/\"+j)\n",
        "  for j in os.listdir(\"raw-img/\" + i)[:400]:\n",
        "    os.rename(\"raw-img/\"+i+\"/\"+j, \"test/\"+i+\"/\"+j)"
      ]
    },
    {
      "cell_type": "code",
      "execution_count": null,
      "metadata": {
        "colab": {
          "base_uri": "https://localhost:8080/"
        },
        "id": "PDjBs81QojP7",
        "outputId": "9dca96d6-07a0-4a55-9ffc-cf04e4e13e0d"
      },
      "outputs": [
        {
          "name": "stdout",
          "output_type": "stream",
          "text": [
            "ACNE 1600\n",
            "Psoriasis 1600\n",
            "Basal_Cell_Carcinoma 1600\n",
            "Melanocytic_Nevi 1600\n",
            "Atopic_Dermatitis 1600\n",
            "Melanoma 1600\n",
            "Eczema 1600\n",
            "Skin_Cancer 1600\n",
            "Warts 1600\n",
            "Tinea Ringworm Candideas 1600\n",
            "Serorrheic Keratoses 1600\n",
            "Nail Fungus 1600\n"
          ]
        }
      ],
      "source": [
        "for i in os.listdir(\"train\"):\n",
        "  print(i,len(os.listdir(\"train/\" + i)))"
      ]
    },
    {
      "cell_type": "code",
      "execution_count": 6,
      "metadata": {
        "id": "edx_MdMcUJ1v"
      },
      "outputs": [],
      "source": [
        "def img_Data(dir_path,target_size,batch,class_lst,preporcssing):\n",
        "  if preporcssing:\n",
        "    gen_object = ImageDataGenerator(preprocessing_function=preporcssing)\n",
        "  else:\n",
        "    gen_object = ImageDataGenerator()\n",
        "\n",
        "  return(gen_object.flow_from_directory(dir_path,\n",
        "                                        target_size=target_size,\n",
        "                                        batch_size=batch,\n",
        "                                        class_mode='sparse',\n",
        "                                        classes = class_lst,\n",
        "                                        shuffle=True))"
      ]
    },
    {
      "cell_type": "code",
      "execution_count": 7,
      "metadata": {
        "colab": {
          "base_uri": "https://localhost:8080/"
        },
        "id": "QBCrSwINsHxN",
        "outputId": "651172ba-ebcd-4ddd-9bae-4d8920a3f409"
      },
      "outputs": [
        {
          "output_type": "stream",
          "name": "stdout",
          "text": [
            "Found 19199 images belonging to 12 classes.\n",
            "Found 4800 images belonging to 12 classes.\n"
          ]
        }
      ],
      "source": [
        "train_data_gen = img_Data(\"train\",(224,224),500,os.listdir(\"train\"),preprocess_input)\n",
        "valid_data_gen = img_Data(\"test\",(224,224),500,os.listdir(\"test\"),preprocess_input)"
      ]
    },
    {
      "cell_type": "code",
      "execution_count": 8,
      "metadata": {
        "id": "SkVlu-wmtiLp",
        "colab": {
          "base_uri": "https://localhost:8080/"
        },
        "outputId": "306ff09b-b573-425e-9d1d-5f95ccc0cddf"
      },
      "outputs": [
        {
          "output_type": "stream",
          "name": "stdout",
          "text": [
            "Downloading data from https://storage.googleapis.com/tensorflow/keras-applications/mobilenet_v2/mobilenet_v2_weights_tf_dim_ordering_tf_kernels_1.0_224_no_top.h5\n",
            "9412608/9406464 [==============================] - 0s 0us/step\n",
            "9420800/9406464 [==============================] - 0s 0us/step\n"
          ]
        }
      ],
      "source": [
        "base_model = tf.keras.applications.mobilenet_v2.MobileNetV2( input_shape=(224,224,3),\n",
        "                                                             alpha=1.0,\n",
        "                                                             include_top=False,\n",
        "                                                             weights='imagenet',\n",
        "                                                             input_tensor=None,\n",
        "                                                             pooling=None,\n",
        "                                                             classes=1000,\n",
        "                                                             classifier_activation='softmax')\n",
        "                                        \n",
        "   \n"
      ]
    },
    {
      "cell_type": "code",
      "execution_count": 9,
      "metadata": {
        "id": "ZxKzXARIuSAl"
      },
      "outputs": [],
      "source": [
        "base_model.trainable = False"
      ]
    },
    {
      "cell_type": "code",
      "execution_count": 10,
      "metadata": {
        "id": "b-k2VxGYuvKd"
      },
      "outputs": [],
      "source": [
        "model = tf.keras.models.Sequential()\n",
        "model.add(base_model)\n",
        "model.add(GlobalAveragePooling2D())\n",
        "model.add(Dense(1024,activation='relu'))\n",
        "model.add(Dense(8,activation='softmax'))\n",
        "\n",
        "model.compile(optimizer='adam',loss='sparse_categorical_crossentropy',metrics=['accuracy'])\n",
        "              "
      ]
    },
    {
      "cell_type": "code",
      "execution_count": 11,
      "metadata": {
        "id": "Q1mx_AZ4w49A"
      },
      "outputs": [],
      "source": [
        "elst = callbacks.EarlyStopping(monitor='val_loss',patience=5,mode='min')\n",
        "save_ck = callbacks.ModelCheckpoint(' .mdl_wt.hdf5',save_best_only=True,monitor='val_loss',mode= 'min')"
      ]
    },
    {
      "cell_type": "code",
      "execution_count": null,
      "metadata": {
        "id": "emqOf7IOx2ZL"
      },
      "outputs": [],
      "source": [
        "model.fit(train_data_gen,batch_size=500,validation_data=valid_data_gen,callbacks=[elst,save_ck],epochs=10)"
      ]
    },
    {
      "cell_type": "code",
      "execution_count": 2,
      "metadata": {
        "colab": {
          "base_uri": "https://localhost:8080/"
        },
        "id": "_5oLkEZQCPwn",
        "outputId": "0aa1071b-8223-4ea6-eddc-bef61dc7dd2f"
      },
      "outputs": [
        {
          "output_type": "stream",
          "name": "stdout",
          "text": [
            "Looking in indexes: https://pypi.org/simple, https://us-python.pkg.dev/colab-wheels/public/simple/\n",
            "Requirement already satisfied: tensorflow in /usr/local/lib/python3.8/dist-packages (2.11.0)\n",
            "Collecting keras-tuner\n",
            "  Downloading keras_tuner-1.3.0-py3-none-any.whl (167 kB)\n",
            "\u001b[2K     \u001b[90m━━━━━━━━━━━━━━━━━━━━━━━━━━━━━━━━━━━━━━\u001b[0m \u001b[32m167.3/167.3 KB\u001b[0m \u001b[31m16.0 MB/s\u001b[0m eta \u001b[36m0:00:00\u001b[0m\n",
            "\u001b[?25hRequirement already satisfied: opencv-python in /usr/local/lib/python3.8/dist-packages (4.6.0.66)\n",
            "Requirement already satisfied: matplotlib in /usr/local/lib/python3.8/dist-packages (3.5.3)\n",
            "Requirement already satisfied: tensorflow-io-gcs-filesystem>=0.23.1 in /usr/local/lib/python3.8/dist-packages (from tensorflow) (0.31.0)\n",
            "Requirement already satisfied: wrapt>=1.11.0 in /usr/local/lib/python3.8/dist-packages (from tensorflow) (1.15.0)\n",
            "Requirement already satisfied: tensorflow-estimator<2.12,>=2.11.0 in /usr/local/lib/python3.8/dist-packages (from tensorflow) (2.11.0)\n",
            "Requirement already satisfied: typing-extensions>=3.6.6 in /usr/local/lib/python3.8/dist-packages (from tensorflow) (4.5.0)\n",
            "Requirement already satisfied: setuptools in /usr/local/lib/python3.8/dist-packages (from tensorflow) (57.4.0)\n",
            "Requirement already satisfied: packaging in /usr/local/lib/python3.8/dist-packages (from tensorflow) (23.0)\n",
            "Requirement already satisfied: astunparse>=1.6.0 in /usr/local/lib/python3.8/dist-packages (from tensorflow) (1.6.3)\n",
            "Requirement already satisfied: google-pasta>=0.1.1 in /usr/local/lib/python3.8/dist-packages (from tensorflow) (0.2.0)\n",
            "Requirement already satisfied: numpy>=1.20 in /usr/local/lib/python3.8/dist-packages (from tensorflow) (1.22.4)\n",
            "Requirement already satisfied: tensorboard<2.12,>=2.11 in /usr/local/lib/python3.8/dist-packages (from tensorflow) (2.11.2)\n",
            "Requirement already satisfied: termcolor>=1.1.0 in /usr/local/lib/python3.8/dist-packages (from tensorflow) (2.2.0)\n",
            "Requirement already satisfied: opt-einsum>=2.3.2 in /usr/local/lib/python3.8/dist-packages (from tensorflow) (3.3.0)\n",
            "Requirement already satisfied: h5py>=2.9.0 in /usr/local/lib/python3.8/dist-packages (from tensorflow) (3.1.0)\n",
            "Requirement already satisfied: six>=1.12.0 in /usr/local/lib/python3.8/dist-packages (from tensorflow) (1.15.0)\n",
            "Requirement already satisfied: gast<=0.4.0,>=0.2.1 in /usr/local/lib/python3.8/dist-packages (from tensorflow) (0.4.0)\n",
            "Requirement already satisfied: keras<2.12,>=2.11.0 in /usr/local/lib/python3.8/dist-packages (from tensorflow) (2.11.0)\n",
            "Requirement already satisfied: absl-py>=1.0.0 in /usr/local/lib/python3.8/dist-packages (from tensorflow) (1.4.0)\n",
            "Requirement already satisfied: flatbuffers>=2.0 in /usr/local/lib/python3.8/dist-packages (from tensorflow) (23.1.21)\n",
            "Requirement already satisfied: grpcio<2.0,>=1.24.3 in /usr/local/lib/python3.8/dist-packages (from tensorflow) (1.51.3)\n",
            "Requirement already satisfied: protobuf<3.20,>=3.9.2 in /usr/local/lib/python3.8/dist-packages (from tensorflow) (3.19.6)\n",
            "Requirement already satisfied: libclang>=13.0.0 in /usr/local/lib/python3.8/dist-packages (from tensorflow) (15.0.6.1)\n",
            "Requirement already satisfied: ipython in /usr/local/lib/python3.8/dist-packages (from keras-tuner) (7.9.0)\n",
            "Collecting kt-legacy\n",
            "  Downloading kt_legacy-1.0.4-py3-none-any.whl (9.6 kB)\n",
            "Requirement already satisfied: requests in /usr/local/lib/python3.8/dist-packages (from keras-tuner) (2.25.1)\n",
            "Requirement already satisfied: kiwisolver>=1.0.1 in /usr/local/lib/python3.8/dist-packages (from matplotlib) (1.4.4)\n",
            "Requirement already satisfied: fonttools>=4.22.0 in /usr/local/lib/python3.8/dist-packages (from matplotlib) (4.38.0)\n",
            "Requirement already satisfied: python-dateutil>=2.7 in /usr/local/lib/python3.8/dist-packages (from matplotlib) (2.8.2)\n",
            "Requirement already satisfied: cycler>=0.10 in /usr/local/lib/python3.8/dist-packages (from matplotlib) (0.11.0)\n",
            "Requirement already satisfied: pillow>=6.2.0 in /usr/local/lib/python3.8/dist-packages (from matplotlib) (8.4.0)\n",
            "Requirement already satisfied: pyparsing>=2.2.1 in /usr/local/lib/python3.8/dist-packages (from matplotlib) (3.0.9)\n",
            "Requirement already satisfied: wheel<1.0,>=0.23.0 in /usr/local/lib/python3.8/dist-packages (from astunparse>=1.6.0->tensorflow) (0.38.4)\n",
            "Requirement already satisfied: google-auth<3,>=1.6.3 in /usr/local/lib/python3.8/dist-packages (from tensorboard<2.12,>=2.11->tensorflow) (2.16.1)\n",
            "Requirement already satisfied: tensorboard-data-server<0.7.0,>=0.6.0 in /usr/local/lib/python3.8/dist-packages (from tensorboard<2.12,>=2.11->tensorflow) (0.6.1)\n",
            "Requirement already satisfied: markdown>=2.6.8 in /usr/local/lib/python3.8/dist-packages (from tensorboard<2.12,>=2.11->tensorflow) (3.4.1)\n",
            "Requirement already satisfied: tensorboard-plugin-wit>=1.6.0 in /usr/local/lib/python3.8/dist-packages (from tensorboard<2.12,>=2.11->tensorflow) (1.8.1)\n",
            "Requirement already satisfied: werkzeug>=1.0.1 in /usr/local/lib/python3.8/dist-packages (from tensorboard<2.12,>=2.11->tensorflow) (2.2.3)\n",
            "Requirement already satisfied: google-auth-oauthlib<0.5,>=0.4.1 in /usr/local/lib/python3.8/dist-packages (from tensorboard<2.12,>=2.11->tensorflow) (0.4.6)\n",
            "Requirement already satisfied: idna<3,>=2.5 in /usr/local/lib/python3.8/dist-packages (from requests->keras-tuner) (2.10)\n",
            "Requirement already satisfied: chardet<5,>=3.0.2 in /usr/local/lib/python3.8/dist-packages (from requests->keras-tuner) (4.0.0)\n",
            "Requirement already satisfied: certifi>=2017.4.17 in /usr/local/lib/python3.8/dist-packages (from requests->keras-tuner) (2022.12.7)\n",
            "Requirement already satisfied: urllib3<1.27,>=1.21.1 in /usr/local/lib/python3.8/dist-packages (from requests->keras-tuner) (1.26.14)\n",
            "Requirement already satisfied: backcall in /usr/local/lib/python3.8/dist-packages (from ipython->keras-tuner) (0.2.0)\n",
            "Requirement already satisfied: pygments in /usr/local/lib/python3.8/dist-packages (from ipython->keras-tuner) (2.6.1)\n",
            "Requirement already satisfied: pexpect in /usr/local/lib/python3.8/dist-packages (from ipython->keras-tuner) (4.8.0)\n",
            "Requirement already satisfied: prompt-toolkit<2.1.0,>=2.0.0 in /usr/local/lib/python3.8/dist-packages (from ipython->keras-tuner) (2.0.10)\n",
            "Collecting jedi>=0.10\n",
            "  Downloading jedi-0.18.2-py2.py3-none-any.whl (1.6 MB)\n",
            "\u001b[2K     \u001b[90m━━━━━━━━━━━━━━━━━━━━━━━━━━━━━━━━━━━━━━━━\u001b[0m \u001b[32m1.6/1.6 MB\u001b[0m \u001b[31m72.3 MB/s\u001b[0m eta \u001b[36m0:00:00\u001b[0m\n",
            "\u001b[?25hRequirement already satisfied: traitlets>=4.2 in /usr/local/lib/python3.8/dist-packages (from ipython->keras-tuner) (5.7.1)\n",
            "Requirement already satisfied: pickleshare in /usr/local/lib/python3.8/dist-packages (from ipython->keras-tuner) (0.7.5)\n",
            "Requirement already satisfied: decorator in /usr/local/lib/python3.8/dist-packages (from ipython->keras-tuner) (4.4.2)\n",
            "Requirement already satisfied: pyasn1-modules>=0.2.1 in /usr/local/lib/python3.8/dist-packages (from google-auth<3,>=1.6.3->tensorboard<2.12,>=2.11->tensorflow) (0.2.8)\n",
            "Requirement already satisfied: cachetools<6.0,>=2.0.0 in /usr/local/lib/python3.8/dist-packages (from google-auth<3,>=1.6.3->tensorboard<2.12,>=2.11->tensorflow) (5.3.0)\n",
            "Requirement already satisfied: rsa<5,>=3.1.4 in /usr/local/lib/python3.8/dist-packages (from google-auth<3,>=1.6.3->tensorboard<2.12,>=2.11->tensorflow) (4.9)\n",
            "Requirement already satisfied: requests-oauthlib>=0.7.0 in /usr/local/lib/python3.8/dist-packages (from google-auth-oauthlib<0.5,>=0.4.1->tensorboard<2.12,>=2.11->tensorflow) (1.3.1)\n",
            "Requirement already satisfied: parso<0.9.0,>=0.8.0 in /usr/local/lib/python3.8/dist-packages (from jedi>=0.10->ipython->keras-tuner) (0.8.3)\n",
            "Requirement already satisfied: importlib-metadata>=4.4 in /usr/local/lib/python3.8/dist-packages (from markdown>=2.6.8->tensorboard<2.12,>=2.11->tensorflow) (6.0.0)\n",
            "Requirement already satisfied: wcwidth in /usr/local/lib/python3.8/dist-packages (from prompt-toolkit<2.1.0,>=2.0.0->ipython->keras-tuner) (0.2.6)\n",
            "Requirement already satisfied: MarkupSafe>=2.1.1 in /usr/local/lib/python3.8/dist-packages (from werkzeug>=1.0.1->tensorboard<2.12,>=2.11->tensorflow) (2.1.2)\n",
            "Requirement already satisfied: ptyprocess>=0.5 in /usr/local/lib/python3.8/dist-packages (from pexpect->ipython->keras-tuner) (0.7.0)\n",
            "Requirement already satisfied: zipp>=0.5 in /usr/local/lib/python3.8/dist-packages (from importlib-metadata>=4.4->markdown>=2.6.8->tensorboard<2.12,>=2.11->tensorflow) (3.15.0)\n",
            "Requirement already satisfied: pyasn1<0.5.0,>=0.4.6 in /usr/local/lib/python3.8/dist-packages (from pyasn1-modules>=0.2.1->google-auth<3,>=1.6.3->tensorboard<2.12,>=2.11->tensorflow) (0.4.8)\n",
            "Requirement already satisfied: oauthlib>=3.0.0 in /usr/local/lib/python3.8/dist-packages (from requests-oauthlib>=0.7.0->google-auth-oauthlib<0.5,>=0.4.1->tensorboard<2.12,>=2.11->tensorflow) (3.2.2)\n",
            "Installing collected packages: kt-legacy, jedi, keras-tuner\n",
            "Successfully installed jedi-0.18.2 keras-tuner-1.3.0 kt-legacy-1.0.4\n"
          ]
        }
      ],
      "source": [
        "#retrying model training with resnet model instead of mobileNetV2 model\n",
        "!pip install tensorflow keras-tuner opencv-python matplotlib"
      ]
    },
    {
      "cell_type": "code",
      "execution_count": 6,
      "metadata": {
        "id": "xM77YuaNC5NL"
      },
      "outputs": [],
      "source": [
        "import numpy as np\n",
        "from matplotlib import pyplot as plt"
      ]
    },
    {
      "cell_type": "code",
      "execution_count": 7,
      "metadata": {
        "id": "yrPg9mg8C98I"
      },
      "outputs": [],
      "source": [
        "DATA_TRAINING_PATH = 'train'\n",
        "BATCH_SIZE = 32\n",
        "IMG_HEIGHT, IMG_WIDTH = 224, 224\n",
        "IMG_SIZE = (IMG_HEIGHT, IMG_WIDTH, 3)\n",
        "\n",
        "DATA_TESTING_PATH = 'test'\n",
        "BATCH_SIZE = 32\n",
        "IMG_HEIGHT, IMG_WIDTH = 224, 224\n",
        "IMG_SIZE = (IMG_HEIGHT, IMG_WIDTH, 3)"
      ]
    },
    {
      "cell_type": "code",
      "execution_count": 8,
      "metadata": {
        "colab": {
          "base_uri": "https://localhost:8080/"
        },
        "id": "SKllVlUFDZNe",
        "outputId": "6abb8a1a-de19-4b05-d1c1-1b0488addc45"
      },
      "outputs": [
        {
          "output_type": "stream",
          "name": "stdout",
          "text": [
            "Found 19199 files belonging to 12 classes.\n",
            "Using 19198 files for training.\n",
            "Found 4800 files belonging to 12 classes.\n",
            "Using 4799 files for validation.\n"
          ]
        }
      ],
      "source": [
        "train_data = tf.keras.utils.image_dataset_from_directory(\n",
        "    DATA_TRAINING_PATH,\n",
        "    label_mode='categorical',\n",
        "    color_mode='rgb',\n",
        "    validation_split=0.0001,\n",
        "    subset=\"training\",\n",
        "    seed=42,\n",
        "    shuffle=True,\n",
        "    image_size=(IMG_HEIGHT, IMG_WIDTH),\n",
        "    batch_size=BATCH_SIZE\n",
        "    )\n",
        "\n",
        "val_data = tf.keras.utils.image_dataset_from_directory(\n",
        "    DATA_TESTING_PATH,\n",
        "    label_mode='categorical',\n",
        "    color_mode='rgb',\n",
        "    validation_split=0.9999,\n",
        "    subset=\"validation\",\n",
        "    seed=42,\n",
        "    shuffle=False,\n",
        "    image_size=(IMG_HEIGHT, IMG_WIDTH),\n",
        "    batch_size=BATCH_SIZE\n",
        "    )"
      ]
    },
    {
      "cell_type": "code",
      "execution_count": 9,
      "metadata": {
        "id": "cSyGDoVOD_c9"
      },
      "outputs": [],
      "source": [
        "class_names = train_data.class_names\n",
        "\n",
        "# optimize\n",
        "train_data = train_data.prefetch(tf.data.AUTOTUNE)\n",
        "val_data = val_data.prefetch(tf.data.AUTOTUNE)"
      ]
    },
    {
      "cell_type": "code",
      "execution_count": 10,
      "metadata": {
        "id": "A_NnyJo_ExI2"
      },
      "outputs": [],
      "source": [
        "from tensorflow import keras\n"
      ]
    },
    {
      "cell_type": "code",
      "execution_count": 11,
      "metadata": {
        "colab": {
          "base_uri": "https://localhost:8080/"
        },
        "id": "_ka6LIItpAZ1",
        "outputId": "413db404-70f3-4436-f011-843d4f0b0e20"
      },
      "outputs": [
        {
          "output_type": "stream",
          "name": "stdout",
          "text": [
            "Looking in indexes: https://pypi.org/simple, https://us-python.pkg.dev/colab-wheels/public/simple/\n",
            "Collecting resnet\n",
            "  Downloading resnet-0.1.tar.gz (5.8 kB)\n",
            "  Preparing metadata (setup.py) ... \u001b[?25l\u001b[?25hdone\n",
            "Requirement already satisfied: keras>=2.0 in /usr/local/lib/python3.8/dist-packages (from resnet) (2.11.0)\n",
            "Building wheels for collected packages: resnet\n",
            "  Building wheel for resnet (setup.py) ... \u001b[?25l\u001b[?25hdone\n",
            "  Created wheel for resnet: filename=resnet-0.1-py3-none-any.whl size=10044 sha256=ca6fd6947373dd23ab5a11019d8592ea1ba681fb9ba4a8a7c9b8e7b9c1fe43c0\n",
            "  Stored in directory: /root/.cache/pip/wheels/3c/db/ed/d285a3be8fa331aca2474dbd87b0e6c2ce5a9060f836723464\n",
            "Successfully built resnet\n",
            "Installing collected packages: resnet\n",
            "Successfully installed resnet-0.1\n"
          ]
        }
      ],
      "source": [
        "pip install resnet"
      ]
    },
    {
      "cell_type": "code",
      "execution_count": 12,
      "metadata": {
        "id": "A37iM7GroySb"
      },
      "outputs": [],
      "source": [
        "from tensorflow.keras.applications import ResNet50V2"
      ]
    },
    {
      "cell_type": "code",
      "execution_count": 13,
      "metadata": {
        "id": "gTVeAHe_E0C0",
        "colab": {
          "base_uri": "https://localhost:8080/"
        },
        "outputId": "ae9d57fa-8f44-4667-8398-daa3e6e049ea"
      },
      "outputs": [
        {
          "output_type": "stream",
          "name": "stdout",
          "text": [
            "Downloading data from https://storage.googleapis.com/tensorflow/keras-applications/resnet/resnet50v2_weights_tf_dim_ordering_tf_kernels_notop.h5\n",
            "94668760/94668760 [==============================] - 1s 0us/step\n"
          ]
        }
      ],
      "source": [
        "base_model = ResNet50V2(\n",
        "    include_top=False, # Exclude ImageNet classifier at the top\n",
        "    weights='imagenet',\n",
        "    input_shape=IMG_SIZE\n",
        "    )\n",
        "\n",
        "\n",
        "\n",
        "# Freeze the base_model\n",
        "base_model.trainable = False"
      ]
    },
    {
      "cell_type": "code",
      "execution_count": 14,
      "metadata": {
        "id": "xEd9g02lE88A"
      },
      "outputs": [],
      "source": [
        "from tensorflow.keras.layers import RandomFlip, RandomRotation, RandomTranslation, RandomContrast"
      ]
    },
    {
      "cell_type": "code",
      "execution_count": 15,
      "metadata": {
        "id": "OwyofLUqE_ln",
        "colab": {
          "base_uri": "https://localhost:8080/"
        },
        "outputId": "265ad7ed-456b-4eb2-81b4-519e05d06c9e"
      },
      "outputs": [
        {
          "output_type": "stream",
          "name": "stderr",
          "text": [
            "WARNING:tensorflow:Using a while_loop for converting RngReadAndSkip cause there is no registered converter for this op.\n",
            "WARNING:tensorflow:Using a while_loop for converting Bitcast cause there is no registered converter for this op.\n",
            "WARNING:tensorflow:Using a while_loop for converting Bitcast cause there is no registered converter for this op.\n",
            "WARNING:tensorflow:Using a while_loop for converting StatelessRandomUniformV2 cause there is no registered converter for this op.\n",
            "WARNING:tensorflow:Using a while_loop for converting ImageProjectiveTransformV3 cause there is no registered converter for this op.\n",
            "WARNING:tensorflow:Using a while_loop for converting RngReadAndSkip cause there is no registered converter for this op.\n",
            "WARNING:tensorflow:Using a while_loop for converting Bitcast cause there is no registered converter for this op.\n",
            "WARNING:tensorflow:Using a while_loop for converting Bitcast cause there is no registered converter for this op.\n",
            "WARNING:tensorflow:Using a while_loop for converting StatelessRandomUniformV2 cause there is no registered converter for this op.\n",
            "WARNING:tensorflow:Using a while_loop for converting RngReadAndSkip cause there is no registered converter for this op.\n",
            "WARNING:tensorflow:Using a while_loop for converting Bitcast cause there is no registered converter for this op.\n",
            "WARNING:tensorflow:Using a while_loop for converting Bitcast cause there is no registered converter for this op.\n",
            "WARNING:tensorflow:Using a while_loop for converting StatelessRandomUniformV2 cause there is no registered converter for this op.\n",
            "WARNING:tensorflow:Using a while_loop for converting RngReadAndSkip cause there is no registered converter for this op.\n",
            "WARNING:tensorflow:Using a while_loop for converting Bitcast cause there is no registered converter for this op.\n",
            "WARNING:tensorflow:Using a while_loop for converting Bitcast cause there is no registered converter for this op.\n",
            "WARNING:tensorflow:Using a while_loop for converting StatelessRandomUniformFullIntV2 cause there is no registered converter for this op.\n",
            "WARNING:tensorflow:Using a while_loop for converting StatelessRandomGetKeyCounter cause there is no registered converter for this op.\n",
            "WARNING:tensorflow:Using a while_loop for converting StatelessRandomUniformV2 cause there is no registered converter for this op.\n",
            "WARNING:tensorflow:Using a while_loop for converting RngReadAndSkip cause there is no registered converter for this op.\n",
            "WARNING:tensorflow:Using a while_loop for converting Bitcast cause there is no registered converter for this op.\n",
            "WARNING:tensorflow:Using a while_loop for converting Bitcast cause there is no registered converter for this op.\n",
            "WARNING:tensorflow:Using a while_loop for converting StatelessRandomUniformV2 cause there is no registered converter for this op.\n",
            "WARNING:tensorflow:Using a while_loop for converting ImageProjectiveTransformV3 cause there is no registered converter for this op.\n",
            "WARNING:tensorflow:Using a while_loop for converting RngReadAndSkip cause there is no registered converter for this op.\n",
            "WARNING:tensorflow:Using a while_loop for converting Bitcast cause there is no registered converter for this op.\n",
            "WARNING:tensorflow:Using a while_loop for converting Bitcast cause there is no registered converter for this op.\n",
            "WARNING:tensorflow:Using a while_loop for converting StatelessRandomUniformV2 cause there is no registered converter for this op.\n",
            "WARNING:tensorflow:Using a while_loop for converting RngReadAndSkip cause there is no registered converter for this op.\n",
            "WARNING:tensorflow:Using a while_loop for converting Bitcast cause there is no registered converter for this op.\n",
            "WARNING:tensorflow:Using a while_loop for converting Bitcast cause there is no registered converter for this op.\n",
            "WARNING:tensorflow:Using a while_loop for converting StatelessRandomUniformV2 cause there is no registered converter for this op.\n",
            "WARNING:tensorflow:Using a while_loop for converting RngReadAndSkip cause there is no registered converter for this op.\n",
            "WARNING:tensorflow:Using a while_loop for converting Bitcast cause there is no registered converter for this op.\n",
            "WARNING:tensorflow:Using a while_loop for converting Bitcast cause there is no registered converter for this op.\n",
            "WARNING:tensorflow:Using a while_loop for converting StatelessRandomUniformFullIntV2 cause there is no registered converter for this op.\n",
            "WARNING:tensorflow:Using a while_loop for converting StatelessRandomGetKeyCounter cause there is no registered converter for this op.\n",
            "WARNING:tensorflow:Using a while_loop for converting StatelessRandomUniformV2 cause there is no registered converter for this op.\n"
          ]
        }
      ],
      "source": [
        "data_augmentation = keras.Sequential(\n",
        "    [RandomFlip('horizontal'), \n",
        "     RandomRotation(factor=(-0.025, 0.025)),\n",
        "     RandomTranslation(height_factor=0.1, width_factor=0.1),\n",
        "     RandomContrast(factor=0.1)\n",
        "     ])\n",
        "\n",
        "\n",
        "\n",
        "# Create new model on top\n",
        "inputs = keras.Input(shape=IMG_SIZE)\n",
        "x = data_augmentation(inputs)\n",
        "\n",
        "x = keras.applications.resnet_v2.preprocess_input(x)\n",
        "x = base_model(x, training=False)"
      ]
    },
    {
      "cell_type": "code",
      "execution_count": 16,
      "metadata": {
        "id": "VOrSD0ZjFE-Q"
      },
      "outputs": [],
      "source": [
        "from tensorflow.keras.layers import GlobalAveragePooling2D, BatchNormalization, Dropout, Flatten, Dense"
      ]
    },
    {
      "cell_type": "code",
      "execution_count": 17,
      "metadata": {
        "id": "zq6yGgYBFHwC",
        "colab": {
          "base_uri": "https://localhost:8080/"
        },
        "outputId": "44b10809-6094-4ef4-c4f6-c5f7464756f2"
      },
      "outputs": [
        {
          "output_type": "stream",
          "name": "stdout",
          "text": [
            "Model: \"model\"\n",
            "_________________________________________________________________\n",
            " Layer (type)                Output Shape              Param #   \n",
            "=================================================================\n",
            " input_2 (InputLayer)        [(None, 224, 224, 3)]     0         \n",
            "                                                                 \n",
            " sequential (Sequential)     (None, 224, 224, 3)       0         \n",
            "                                                                 \n",
            " tf.math.truediv (TFOpLambda  (None, 224, 224, 3)      0         \n",
            " )                                                               \n",
            "                                                                 \n",
            " tf.math.subtract (TFOpLambd  (None, 224, 224, 3)      0         \n",
            " a)                                                              \n",
            "                                                                 \n",
            " resnet50v2 (Functional)     (None, 7, 7, 2048)        23564800  \n",
            "                                                                 \n",
            " global_average_pooling2d (G  (None, 2048)             0         \n",
            " lobalAveragePooling2D)                                          \n",
            "                                                                 \n",
            " batch_normalization (BatchN  (None, 2048)             8192      \n",
            " ormalization)                                                   \n",
            "                                                                 \n",
            " dropout (Dropout)           (None, 2048)              0         \n",
            "                                                                 \n",
            " pred (Dense)                (None, 12)                24588     \n",
            "                                                                 \n",
            "=================================================================\n",
            "Total params: 23,597,580\n",
            "Trainable params: 28,684\n",
            "Non-trainable params: 23,568,896\n",
            "_________________________________________________________________\n"
          ]
        }
      ],
      "source": [
        "x = GlobalAveragePooling2D()(x)\n",
        "x = BatchNormalization()(x)\n",
        "x = Dropout(0.2)(x)  # Regularize with dropout\n",
        "\n",
        "outputs = Dense(len(class_names), activation=\"softmax\", name=\"pred\")(x)\n",
        "\n",
        "resnet_model = keras.Model(inputs, outputs)\n",
        "\n",
        "\n",
        "\n",
        "resnet_model.summary()"
      ]
    },
    {
      "cell_type": "code",
      "execution_count": 18,
      "metadata": {
        "id": "fYr5PLGsFNH7"
      },
      "outputs": [],
      "source": [
        "from tensorflow.keras.metrics import *\n",
        "from tensorflow.keras.callbacks import EarlyStopping\n",
        "from tensorflow.keras.optimizers import Adam\n",
        "from tensorflow.keras.losses import CategoricalCrossentropy"
      ]
    },
    {
      "cell_type": "code",
      "execution_count": 26,
      "metadata": {
        "colab": {
          "base_uri": "https://localhost:8080/"
        },
        "id": "jF2JeJEcFT4m",
        "outputId": "4d797064-5587-4363-954b-eb630954dc1f"
      },
      "outputs": [
        {
          "output_type": "stream",
          "name": "stdout",
          "text": [
            "Epoch 1/25\n",
            "600/600 [==============================] - 2755s 4s/step - loss: 1.4283 - categorical_accuracy: 0.5243 - precision: 0.6427 - recall: 0.4204 - val_loss: 1.3392 - val_categorical_accuracy: 0.5443 - val_precision: 0.6543 - val_recall: 0.4409\n",
            "Epoch 2/25\n",
            "600/600 [==============================] - 147s 242ms/step - loss: 1.1611 - categorical_accuracy: 0.6004 - precision: 0.7012 - recall: 0.5066 - val_loss: 1.2613 - val_categorical_accuracy: 0.5624 - val_precision: 0.6707 - val_recall: 0.4682\n",
            "Epoch 3/25\n",
            "600/600 [==============================] - 134s 222ms/step - loss: 1.0979 - categorical_accuracy: 0.6142 - precision: 0.7107 - recall: 0.5283 - val_loss: 1.2042 - val_categorical_accuracy: 0.5760 - val_precision: 0.6909 - val_recall: 0.4797\n",
            "Epoch 4/25\n",
            "600/600 [==============================] - 134s 222ms/step - loss: 1.0620 - categorical_accuracy: 0.6239 - precision: 0.7201 - recall: 0.5410 - val_loss: 1.2149 - val_categorical_accuracy: 0.5868 - val_precision: 0.6891 - val_recall: 0.4970\n",
            "Epoch 5/25\n",
            "600/600 [==============================] - 132s 218ms/step - loss: 1.0455 - categorical_accuracy: 0.6286 - precision: 0.7235 - recall: 0.5487 - val_loss: 1.1885 - val_categorical_accuracy: 0.5922 - val_precision: 0.6910 - val_recall: 0.5024\n",
            "Epoch 6/25\n",
            "600/600 [==============================] - 140s 232ms/step - loss: 1.0340 - categorical_accuracy: 0.6349 - precision: 0.7256 - recall: 0.5498 - val_loss: 1.2010 - val_categorical_accuracy: 0.5870 - val_precision: 0.6771 - val_recall: 0.5034\n",
            "Epoch 7/25\n",
            "600/600 [==============================] - 141s 233ms/step - loss: 1.0098 - categorical_accuracy: 0.6389 - precision: 0.7296 - recall: 0.5603 - val_loss: 1.1685 - val_categorical_accuracy: 0.5957 - val_precision: 0.6884 - val_recall: 0.5139\n",
            "Epoch 8/25\n",
            "600/600 [==============================] - 129s 214ms/step - loss: 0.9927 - categorical_accuracy: 0.6486 - precision: 0.7350 - recall: 0.5705 - val_loss: 1.1879 - val_categorical_accuracy: 0.5918 - val_precision: 0.6912 - val_recall: 0.5103\n",
            "Epoch 9/25\n",
            "600/600 [==============================] - 133s 218ms/step - loss: 1.0037 - categorical_accuracy: 0.6445 - precision: 0.7297 - recall: 0.5647 - val_loss: 1.1778 - val_categorical_accuracy: 0.5937 - val_precision: 0.6892 - val_recall: 0.5032\n",
            "Epoch 10/25\n",
            "600/600 [==============================] - 130s 216ms/step - loss: 1.0048 - categorical_accuracy: 0.6452 - precision: 0.7309 - recall: 0.5661 - val_loss: 1.1509 - val_categorical_accuracy: 0.6108 - val_precision: 0.7028 - val_recall: 0.5224\n",
            "Epoch 11/25\n",
            "600/600 [==============================] - 133s 220ms/step - loss: 0.9962 - categorical_accuracy: 0.6439 - precision: 0.7313 - recall: 0.5660 - val_loss: 1.1860 - val_categorical_accuracy: 0.5980 - val_precision: 0.6897 - val_recall: 0.5099\n",
            "Epoch 12/25\n",
            "600/600 [==============================] - 137s 225ms/step - loss: 0.9900 - categorical_accuracy: 0.6473 - precision: 0.7336 - recall: 0.5706 - val_loss: 1.1740 - val_categorical_accuracy: 0.5882 - val_precision: 0.6871 - val_recall: 0.5103\n",
            "Epoch 13/25\n",
            "600/600 [==============================] - 133s 221ms/step - loss: 0.9802 - categorical_accuracy: 0.6494 - precision: 0.7378 - recall: 0.5733 - val_loss: 1.1418 - val_categorical_accuracy: 0.6045 - val_precision: 0.6966 - val_recall: 0.5234\n",
            "Epoch 14/25\n",
            "600/600 [==============================] - 129s 214ms/step - loss: 0.9703 - categorical_accuracy: 0.6515 - precision: 0.7376 - recall: 0.5722 - val_loss: 1.1582 - val_categorical_accuracy: 0.6028 - val_precision: 0.6916 - val_recall: 0.5149\n",
            "Epoch 15/25\n",
            "600/600 [==============================] - 129s 213ms/step - loss: 0.9728 - categorical_accuracy: 0.6513 - precision: 0.7436 - recall: 0.5727 - val_loss: 1.1505 - val_categorical_accuracy: 0.6008 - val_precision: 0.6893 - val_recall: 0.5174\n",
            "Epoch 16/25\n",
            "600/600 [==============================] - 130s 215ms/step - loss: 0.9676 - categorical_accuracy: 0.6500 - precision: 0.7361 - recall: 0.5715 - val_loss: 1.1569 - val_categorical_accuracy: 0.6008 - val_precision: 0.6958 - val_recall: 0.5195\n",
            "Epoch 17/25\n",
            "600/600 [==============================] - 130s 216ms/step - loss: 0.9641 - categorical_accuracy: 0.6537 - precision: 0.7371 - recall: 0.5727 - val_loss: 1.1514 - val_categorical_accuracy: 0.5982 - val_precision: 0.6894 - val_recall: 0.5189\n",
            "Epoch 18/25\n",
            "600/600 [==============================] - 132s 218ms/step - loss: 0.9595 - categorical_accuracy: 0.6573 - precision: 0.7438 - recall: 0.5745 - val_loss: 1.1373 - val_categorical_accuracy: 0.6049 - val_precision: 0.7099 - val_recall: 0.5216\n",
            "Epoch 19/25\n",
            "600/600 [==============================] - 131s 216ms/step - loss: 0.9597 - categorical_accuracy: 0.6544 - precision: 0.7407 - recall: 0.5749 - val_loss: 1.1260 - val_categorical_accuracy: 0.6058 - val_precision: 0.6996 - val_recall: 0.5186\n",
            "Epoch 20/25\n",
            "600/600 [==============================] - 130s 216ms/step - loss: 0.9563 - categorical_accuracy: 0.6530 - precision: 0.7419 - recall: 0.5774 - val_loss: 1.1398 - val_categorical_accuracy: 0.6064 - val_precision: 0.7082 - val_recall: 0.5195\n",
            "Epoch 21/25\n",
            "600/600 [==============================] - 130s 216ms/step - loss: 0.9469 - categorical_accuracy: 0.6600 - precision: 0.7486 - recall: 0.5784 - val_loss: 1.1333 - val_categorical_accuracy: 0.6095 - val_precision: 0.7090 - val_recall: 0.5182\n",
            "Epoch 22/25\n",
            "600/600 [==============================] - 129s 214ms/step - loss: 0.9565 - categorical_accuracy: 0.6568 - precision: 0.7428 - recall: 0.5714 - val_loss: 1.1459 - val_categorical_accuracy: 0.6089 - val_precision: 0.6941 - val_recall: 0.5164\n",
            "Epoch 23/25\n",
            "600/600 [==============================] - 131s 215ms/step - loss: 0.9379 - categorical_accuracy: 0.6616 - precision: 0.7539 - recall: 0.5796 - val_loss: 1.1133 - val_categorical_accuracy: 0.6137 - val_precision: 0.7057 - val_recall: 0.5216\n",
            "Epoch 24/25\n",
            "600/600 [==============================] - 130s 215ms/step - loss: 0.9420 - categorical_accuracy: 0.6593 - precision: 0.7463 - recall: 0.5745 - val_loss: 1.1275 - val_categorical_accuracy: 0.6139 - val_precision: 0.7079 - val_recall: 0.5287\n",
            "Epoch 25/25\n",
            "600/600 [==============================] - 130s 215ms/step - loss: 0.9356 - categorical_accuracy: 0.6600 - precision: 0.7502 - recall: 0.5773 - val_loss: 1.1201 - val_categorical_accuracy: 0.6051 - val_precision: 0.7067 - val_recall: 0.5201\n"
          ]
        },
        {
          "output_type": "stream",
          "name": "stderr",
          "text": [
            "/usr/local/lib/python3.8/dist-packages/keras/engine/functional.py:1410: CustomMaskWarning: Custom mask layers require a config and must override get_config. When loading, the custom mask layer must be passed to the custom_objects argument.\n",
            "  layer_config = serialize_layer_fn(layer)\n"
          ]
        },
        {
          "output_type": "stream",
          "name": "stdout",
          "text": [
            "150/150 [==============================] - 24s 163ms/step - loss: 1.1201 - categorical_accuracy: 0.6051 - precision: 0.7067 - recall: 0.5201\n"
          ]
        },
        {
          "output_type": "execute_result",
          "data": {
            "text/plain": [
              "[1.1201198101043701,\n",
              " 0.6051260828971863,\n",
              " 0.7066817879676819,\n",
              " 0.5201083421707153]"
            ]
          },
          "metadata": {},
          "execution_count": 26
        }
      ],
      "source": [
        "metrics = [CategoricalAccuracy(), Precision(), Recall()]\n",
        "\n",
        "resnet_model.compile(\n",
        "    loss = CategoricalCrossentropy(),\n",
        "    optimizer = Adam(learning_rate=0.001),\n",
        "    metrics = metrics\n",
        "    )\n",
        "\n",
        "elst = callbacks.EarlyStopping(monitor='val_loss',patience=25,mode='min')\n",
        "save_ck = callbacks.ModelCheckpoint('resnet-model-23-02-21.h5',save_best_only=True,monitor='val_loss',mode= 'min')\n",
        "\n",
        "\n",
        "resnet_history = resnet_model.fit(\n",
        "      train_data, \n",
        "      epochs=25, \n",
        "      validation_data=val_data,\n",
        "      callbacks=[elst],\n",
        "      verbose=1\n",
        "      )\n",
        "\n",
        "\n",
        "\n",
        "resnet_model.save('AbbasResnet3Model.h5')\n",
        "\n",
        "\n",
        "\n",
        "result = resnet_model.evaluate(val_data)\n",
        "result\n",
        "\n",
        "\n"
      ]
    },
    {
      "cell_type": "code",
      "execution_count": null,
      "metadata": {
        "id": "ZZLcizjns6fE"
      },
      "outputs": [],
      "source": [
        "infection_CLASSES = {x:y for x,y in enumerate(class_names)}\n",
        "MODEL_DIR = 'My Drive/model_training/content/AbbasResnet3Model.h5'\n",
        "MODEL = keras.models.load_model('content/AbbasResnet3Model.h5')\n",
        "\n",
        "def predict_image_class(img_path:str) -> str:\n",
        "  img = keras.preprocessing.image.load_img(img_path, target_size=IMG_SIZE)\n",
        "  img_array = keras.preprocessing.image.img_to_array(img)\n",
        "  img_array = tf.expand_dims(img_array, 0)  # Create batch axis\n",
        "\n",
        "  predictions = MODEL.predict(img_array)\n",
        "  print(predictions.argmax(axis=1))\n",
        "\n",
        "  return infection_CLASSES[predictions.argmax(axis=1)[0]]\n",
        "\n",
        "\n",
        "\n",
        "TEST_IMG_DIR = \"content/resnet_model_training/Nail_Fungus.jpg\"\n",
        "print(f\"Prediction - {predict_image_class(TEST_IMG_DIR)}\")\n",
        "\n",
        "\n",
        "\n",
        "from google.colab import files\n",
        "files.download('content/AbbasResnet3Model.h5')"
      ]
    }
  ],
  "metadata": {
    "accelerator": "GPU",
    "colab": {
      "provenance": [],
      "authorship_tag": "ABX9TyP3IgMNAKVARbM7rAyY8W8K",
      "include_colab_link": true
    },
    "gpuClass": "standard",
    "kernelspec": {
      "display_name": "Python 3",
      "name": "python3"
    },
    "language_info": {
      "name": "python"
    }
  },
  "nbformat": 4,
  "nbformat_minor": 0
}